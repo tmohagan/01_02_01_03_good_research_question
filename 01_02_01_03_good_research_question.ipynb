{
 "cells": [
  {
   "cell_type": "markdown",
   "metadata": {},
   "source": [
    "Categorize each of the following research questions as \"good\" or \"bad\", and provide alternative formulations for the bad ones. "
   ]
  },
  {
   "cell_type": "markdown",
   "metadata": {},
   "source": [
    "#### What is the 1994 rate of juvenile delinquency in the U.S.?"
   ]
  },
  {
   "cell_type": "markdown",
   "metadata": {},
   "source": [
    "This isn't as much of a research question as it is a single statistic.  I'm sure this information is already easily avaiable. "
   ]
  },
  {
   "cell_type": "markdown",
   "metadata": {},
   "source": [
    "#### What can we do to reduce juvenile delinquency in the U.S.?"
   ]
  },
  {
   "cell_type": "markdown",
   "metadata": {},
   "source": [
    "This could be a good research question.  We can try and look at major increases or declines in juvenile delinquency then look for corrilations with any events, such as drug awareness programs in school.  However it might be difficult to get information about these events.   "
   ]
  },
  {
   "cell_type": "markdown",
   "metadata": {},
   "source": [
    "#### Does education play a role in reducing juvenile delinquents' return to crime?"
   ]
  },
  {
   "cell_type": "markdown",
   "metadata": {},
   "source": [
    "This would be much easier than the previous question, because we don't have to try and pinpoint events.  We can get data on juvenile delinquesnts and we can get data on education.  It should possible to find a coorilation between the data sets."
   ]
  },
  {
   "cell_type": "markdown",
   "metadata": {},
   "source": [
    "#### How many customers does AT&T currently serve in Washington, DC?"
   ]
  },
  {
   "cell_type": "markdown",
   "metadata": {},
   "source": [
    "This is a statistic, not a research question, and it is already known by AT&T. "
   ]
  },
  {
   "cell_type": "markdown",
   "metadata": {},
   "source": [
    "#### What factors lead consumers to choose AT&T over other service providers?"
   ]
  },
  {
   "cell_type": "markdown",
   "metadata": {},
   "source": [
    "This is a vaild research question as long as we can conduct a survey and retreive significant results from significant amount of AT&T customers."
   ]
  },
  {
   "cell_type": "markdown",
   "metadata": {},
   "source": [
    "#### How can AT&T attract more customers?"
   ]
  },
  {
   "cell_type": "raw",
   "metadata": {},
   "source": [
    "If I work for AT&T it is easier to get information about customers, but would be more difficult to get information about who is not a customer.  I could look at population data to determine which demographics were less likely to use AT&T, but it would be difficult to gather the reasons people decided to pass on AT&T."
   ]
  },
  {
   "cell_type": "markdown",
   "metadata": {},
   "source": [
    "#### Why did the Challenger Shuttle explode?"
   ]
  },
  {
   "cell_type": "markdown",
   "metadata": {},
   "source": [
    "This is already understood."
   ]
  },
  {
   "cell_type": "markdown",
   "metadata": {},
   "source": [
    "#### Which genes are associated with increased risk of breast cancer?"
   ]
  },
  {
   "cell_type": "raw",
   "metadata": {},
   "source": [
    "I don't really know enough about the subject.  We could probably gather information about genes, looking for similarities with other patients, and differences from non patients."
   ]
  },
  {
   "cell_type": "markdown",
   "metadata": {},
   "source": [
    "#### Is it better to read to children at night or in the morning?"
   ]
  },
  {
   "cell_type": "markdown",
   "metadata": {},
   "source": [
    "I don't know that this data is available.  Parents of older children with developed reading skills probably don't have a great recolection of when they read to this children.  It would take a very long time to start a new expereiment with children then wait until they are grown up to figure out the results.  "
   ]
  },
  {
   "cell_type": "markdown",
   "metadata": {},
   "source": [
    "#### How does Google’s search algorithm work?"
   ]
  },
  {
   "cell_type": "markdown",
   "metadata": {},
   "source": [
    "I'm sure it's very complicated and already well researched.  "
   ]
  }
 ],
 "metadata": {
  "kernelspec": {
   "display_name": "Python 3",
   "language": "python",
   "name": "python3"
  },
  "language_info": {
   "codemirror_mode": {
    "name": "ipython",
    "version": 3
   },
   "file_extension": ".py",
   "mimetype": "text/x-python",
   "name": "python",
   "nbconvert_exporter": "python",
   "pygments_lexer": "ipython3",
   "version": "3.6.5"
  }
 },
 "nbformat": 4,
 "nbformat_minor": 2
}
